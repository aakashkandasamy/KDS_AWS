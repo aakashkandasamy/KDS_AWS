{
 "cells": [
  {
   "cell_type": "code",
   "execution_count": 1,
   "metadata": {},
   "outputs": [],
   "source": [
    "import os\n",
    "import shutil"
   ]
  },
  {
   "cell_type": "code",
   "execution_count": 2,
   "metadata": {},
   "outputs": [],
   "source": [
    "data_dir = \"./LabPics Chemistry/Train\"\n",
    "extract_dir = \"./Extracted_Train\""
   ]
  },
  {
   "cell_type": "code",
   "execution_count": 3,
   "metadata": {},
   "outputs": [],
   "source": [
    "if not os.path.exists(extract_dir):\n",
    "    os.makedirs(extract_dir)\n",
    "\n",
    "\n",
    "for folder in os.listdir(data_dir):\n",
    "    if folder.endswith(\"Train\"):\n",
    "        number = folder.split(\"Train\")[0]\n",
    "\n",
    "        image_file = os.path.join(data_dir, folder, \"Image.jpg\")\n",
    "        json_file = os.path.join(data_dir, folder, \"Data.json\")\n",
    "\n",
    "        new_image_file = os.path.join(extract_dir,\"Image\" + number + \".jpg\")\n",
    "        new_json_file = os.path.join(extract_dir, \"Data\"+ number + \".json\")\n",
    "\n",
    "        shutil.copy(image_file, new_image_file)\n",
    "        shutil.copy(json_file, new_json_file)"
   ]
  },
  {
   "cell_type": "code",
   "execution_count": 4,
   "metadata": {},
   "outputs": [],
   "source": [
    "data_dir = \"./LabPics Chemistry/Test\"\n",
    "extract_dir = \"./Extracted_Train\""
   ]
  },
  {
   "cell_type": "code",
   "execution_count": 8,
   "metadata": {},
   "outputs": [],
   "source": [
    "if not os.path.exists(extract_dir):\n",
    "    os.makedirs(extract_dir)\n",
    "\n",
    "for folder in os.listdir(data_dir):\n",
    "    if folder.endswith(\"Eval\"):\n",
    "        number = int(folder.split(\"Eval\")[0]) + 5007\n",
    "\n",
    "        image_file = os.path.join(data_dir, folder, \"Image.jpg\")\n",
    "        json_file = os.path.join(data_dir, folder, \"Data.json\")\n",
    "\n",
    "        new_image_file = os.path.join(extract_dir,\"Image\" + str(number) + \".jpg\")\n",
    "        new_json_file = os.path.join(extract_dir, \"Data\"+ str(number) + \".json\")\n",
    "\n",
    "        shutil.copy(image_file, new_image_file)\n",
    "        shutil.copy(json_file, new_json_file)"
   ]
  },
  {
   "cell_type": "code",
   "execution_count": null,
   "metadata": {},
   "outputs": [],
   "source": []
  }
 ],
 "metadata": {
  "kernelspec": {
   "display_name": "tf",
   "language": "python",
   "name": "python3"
  },
  "language_info": {
   "codemirror_mode": {
    "name": "ipython",
    "version": 3
   },
   "file_extension": ".py",
   "mimetype": "text/x-python",
   "name": "python",
   "nbconvert_exporter": "python",
   "pygments_lexer": "ipython3",
   "version": "3.10.9"
  },
  "orig_nbformat": 4
 },
 "nbformat": 4,
 "nbformat_minor": 2
}
